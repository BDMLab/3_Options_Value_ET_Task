{
 "cells": [
  {
   "cell_type": "code",
   "execution_count": 4,
   "metadata": {
    "collapsed": true
   },
   "outputs": [],
   "source": [
    "import pandas as pd\n",
    "import os\n",
    "import numpy as np"
   ]
  },
  {
   "cell_type": "code",
   "execution_count": 5,
   "metadata": {
    "collapsed": false
   },
   "outputs": [],
   "source": [
    "\n",
    " \n",
    "# Create a list of files from the current directory who's last 4 characters\n",
    "# as lowercase are either '.jpg' or '.png'\n",
    "files = [ f for f in os.listdir('.') if f[-4:].lower() in ('.jpg','.png') ]\n",
    "namelist = [] \n",
    "    \n",
    "DRYRUN=True\n",
    " \n",
    "for (index,filename) in enumerate(files):\n",
    "  extension = os.path.splitext(filename)[1]\n",
    "  newname = str((index+1)).lstrip('0') + '_' + filename.split('_', 1)[-1]\n",
    "  if os.path.exists(newname):\n",
    "    print \"Cannot rename %s to %s, already exists\" % (filename,newname)\n",
    "    continue\n",
    "  if DRYRUN:\n",
    "    print \"Would rename %s to %s\" % (filename,newname)\n",
    "    namelist.append(newname)\n",
    "  else:\n",
    "    print \"Renaming %s to %s\" % (filename,newname)\n",
    "    namelist.append(newname)\n",
    "    os.rename(filename,newname)"
   ]
  },
  {
   "cell_type": "code",
   "execution_count": 10,
   "metadata": {
    "collapsed": false
   },
   "outputs": [],
   "source": [
    "free = pd.DataFrame(files)\n",
    "free['img'] = 'stimuli/main_trials/' + free['img']\n",
    "yoked = free.copy(); free['yoked'] = 0; yoked['yoked'] = 1\n",
    "full = pd.concat([free, yoked])\n",
    "full.to_csv('main_loop.csv', index=False)"
   ]
  },
  {
   "cell_type": "code",
   "execution_count": 5,
   "metadata": {
    "collapsed": false
   },
   "outputs": [
    {
     "data": {
      "text/plain": [
       "70"
      ]
     },
     "execution_count": 5,
     "metadata": {},
     "output_type": "execute_result"
    }
   ],
   "source": [
    "len(files)"
   ]
  },
  {
   "cell_type": "code",
   "execution_count": 9,
   "metadata": {
    "collapsed": false
   },
   "outputs": [
    {
     "name": "stdout",
     "output_type": "stream",
     "text": [
      "[ 55 109  45   5  28 172 121  56  62 136  88   8 182 195  96 122 169 181\n",
      " 125  64 128  92  83  42  89 101 200 137  43 112 115  52  67  31 132  53\n",
      " 158 116 192  93  75 164 148   6 163  47  19 152 123  46  26  90  59 156\n",
      "  22 189 207 103 130 196 190  94  84  37 153 147 151 198 104  36 100 185\n",
      " 133 197 188 102 179  33  86  54  48 126  35 139   7 110  61 183 167  49\n",
      "   1  32  41 150 134 170   4 194   0  81  13 146 114  72  16 178 161  24\n",
      "  27 149   3 154  23 177 176  20 157  63  76 117  14  66 124 173 204  44\n",
      "  99 113 107 143 166 120 138  80 202  85  97  12  82 145 171 108 186   2\n",
      " 106 184 162  51  11 118 201  10  70 111  68  73 140 155  34 135  71  74\n",
      "  40 175  91 174  78  69 105  58 193 142  29  95 159 187 165  77 131  25\n",
      " 168 144 129 141  30  38 203 127 160   9  79  60 191 199  18  50  98 205\n",
      "  17  57 180  87  39 206  65 119  15  21]\n"
     ]
    }
   ],
   "source": [
    "print np.random.choice(208, 208, replace=False)"
   ]
  },
  {
   "cell_type": "code",
   "execution_count": null,
   "metadata": {
    "collapsed": true
   },
   "outputs": [],
   "source": []
  }
 ],
 "metadata": {
  "kernelspec": {
   "display_name": "Python 2",
   "language": "python",
   "name": "python2"
  },
  "language_info": {
   "codemirror_mode": {
    "name": "ipython",
    "version": 2
   },
   "file_extension": ".py",
   "mimetype": "text/x-python",
   "name": "python",
   "nbconvert_exporter": "python",
   "pygments_lexer": "ipython2",
   "version": "2.7.9"
  }
 },
 "nbformat": 4,
 "nbformat_minor": 0
}
