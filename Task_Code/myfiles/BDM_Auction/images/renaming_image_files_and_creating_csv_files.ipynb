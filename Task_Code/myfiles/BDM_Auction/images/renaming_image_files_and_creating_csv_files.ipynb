{
 "cells": [
  {
   "cell_type": "code",
   "execution_count": 1,
   "metadata": {
    "collapsed": true
   },
   "outputs": [],
   "source": [
    "import pandas as pd\n",
    "import os\n",
    "import numpy as np"
   ]
  },
  {
   "cell_type": "code",
   "execution_count": 4,
   "metadata": {
    "collapsed": false
   },
   "outputs": [
    {
     "name": "stdout",
     "output_type": "stream",
     "text": [
      "Would rename 10_shapers_popcorn.png to 1_shapers_popcorn.png\n",
      "Would rename 11_lindt_vanilla.png to 2_lindt_vanilla.png\n",
      "Would rename 12_caramello.png to 3_caramello.png\n",
      "Would rename 13_bounty.png to 4_bounty.png\n",
      "Would rename 14_skips_prawn.png to 5_skips_prawn.png\n",
      "Would rename 15_cadbury_double_decker_bar.png to 6_cadbury_double_decker_bar.png\n",
      "Would rename 16_hovis_crackers.png to 7_hovis_crackers.png\n",
      "Would rename 17_hula_hoops_bbq_beef.png to 8_hula_hoops_bbq_beef.png\n",
      "Would rename 18_lindt_orange.png to 9_lindt_orange.png\n",
      "Would rename 19_sultanas.png to 10_sultanas.png\n",
      "Would rename 1_szechuan_peanuts.png to 11_szechuan_peanuts.png\n",
      "Would rename 20_fruit_pastilles.png to 12_fruit_pastilles.png\n",
      "Would rename 21_maltesers.png to 13_maltesers.png\n",
      "Would rename 22_border_biscuits.png to 14_border_biscuits.png\n",
      "Would rename 23_jacobs_mini_cheddars.png to 15_jacobs_mini_cheddars.png\n",
      "Would rename 24_peanuts.png to 16_peanuts.png\n",
      "Would rename 25_mrporky_pork_crackles.png to 17_mrporky_pork_crackles.png\n",
      "Would rename 26_galaxy_bar.png to 18_galaxy_bar.png\n",
      "Would rename 27_pistachios.png to 19_pistachios.png\n",
      "Would rename 28_crunch.png to 20_crunch.png\n",
      "Would rename 29_kellogs_mint_bars.png to 21_kellogs_mint_bars.png\n",
      "Would rename 2_no_sugar_toffees.png to 22_no_sugar_toffees.png\n",
      "Would rename 30_KP_grazing_mix.png to 23_KP_grazing_mix.png\n",
      "Would rename 31_twix.png to 24_twix.png\n",
      "Would rename 32_wonderful_almonds.png to 25_wonderful_almonds.png\n",
      "Would rename 33_yorkie.png to 26_yorkie.png\n",
      "Would rename 34_mars.png to 27_mars.png\n",
      "Would rename 35_nakd_banana_crunch.png to 28_nakd_banana_crunch.png\n",
      "Would rename 36_mms_peanut.png to 29_mms_peanut.png\n",
      "Would rename 37_starburst_original.png to 30_starburst_original.png\n",
      "Would rename 38_beef_jerky.png to 31_beef_jerky.png\n",
      "Would rename 39_snickers.png to 32_snickers.png\n",
      "Would rename 3_walkers_smoky_bacon.png to 33_walkers_smoky_bacon.png\n",
      "Would rename 40_hobnob_flapjack.png to 34_hobnob_flapjack.png\n",
      "Would rename 41_mms_plain.png to 35_mms_plain.png\n",
      "Would rename 42_treacle_cookies.png to 36_treacle_cookies.png\n",
      "Would rename 43_trail_mix.png to 37_trail_mix.png\n",
      "Would rename 44_milkybar.png to 38_milkybar.png\n",
      "Would rename 45_milkyway.png to 39_milkyway.png\n",
      "Would rename 46_nestle_rolo.png to 40_nestle_rolo.png\n",
      "Would rename 47_jelly_babies_berry_mix.png to 41_jelly_babies_berry_mix.png\n",
      "Would rename 48_dairy_milk_fruit_and_nut.png to 42_dairy_milk_fruit_and_nut.png\n",
      "Would rename 49_mccoys_steak_crisps.png to 43_mccoys_steak_crisps.png\n",
      "Would rename 4_walkers_french_fries.png to 44_walkers_french_fries.png\n",
      "Would rename 50_gb_ginger.png to 45_gb_ginger.png\n",
      "Would rename 51_wasabi_peanuts.png to 46_wasabi_peanuts.png\n",
      "Would rename 52_daim.png to 47_daim.png\n",
      "Would rename 53_mentos_mint.png to 48_mentos_mint.png\n",
      "Would rename 54_food_doctor_roasted_beans.png to 49_food_doctor_roasted_beans.png\n",
      "Would rename 55_cola_flavour_lances.png to 50_cola_flavour_lances.png\n",
      "Would rename 56_nakd_rhubarb_and_custard.png to 51_nakd_rhubarb_and_custard.png\n",
      "Would rename 57_smarties.png to 52_smarties.png\n",
      "Would rename 58_discos_salt_vinegar.png to 53_discos_salt_vinegar.png\n",
      "Would rename 59_eat_natural_almond_apricot.png to 54_eat_natural_almond_apricot.png\n",
      "Would rename 5_milkyway_magic_stars.png to 55_milkyway_magic_stars.png\n",
      "Would rename 60_bassetts_licorice_allsorts.png to 56_bassetts_licorice_allsorts.png\n",
      "Would rename 61_marshmallows.png to 57_marshmallows.png\n",
      "Would rename 62_food_doctor_mild_korma_crisps.png to 58_food_doctor_mild_korma_crisps.png\n",
      "Would rename 63_walnut_whip.png to 59_walnut_whip.png\n",
      "Would rename 64_crunchie.png to 60_crunchie.png\n",
      "Would rename 65_caramel_rice_crisps.png to 61_caramel_rice_crisps.png\n",
      "Would rename 66_marmite_crisps.png to 62_marmite_crisps.png\n",
      "Would rename 67_cadbury_wispa.png to 63_cadbury_wispa.png\n",
      "Would rename 68_kitkat.png to 64_kitkat.png\n",
      "Would rename 69_nestle_aero_mint.png to 65_nestle_aero_mint.png\n",
      "Would rename 6_doritos_chilli.png to 66_doritos_chilli.png\n",
      "Would rename 70_haribo_tangfastics.png to 67_haribo_tangfastics.png\n",
      "Would rename 71_sour_cream_and_chive_rice_crisps.png to 68_sour_cream_and_chive_rice_crisps.png\n",
      "Would rename 72_skittles_wildberry.png to 69_skittles_wildberry.png\n",
      "Would rename 7_maple_pecan.png to 70_maple_pecan.png\n",
      "Would rename 8_walkers_baked_crisps.png to 71_walkers_baked_crisps.png\n",
      "Would rename 9_shapers_vegatable_crisps.png to 72_shapers_vegatable_crisps.png\n"
     ]
    }
   ],
   "source": [
    "\n",
    " \n",
    "# Create a list of files from the current directory who's last 4 characters\n",
    "# as lowercase are either '.jpg' or '.png'\n",
    "files = [ f for f in os.listdir('.') if f[-4:].lower() in ('.jpg','.png') ]\n",
    "namelist = [] \n",
    "    \n",
    "DRYRUN=True\n",
    " \n",
    "for (index,filename) in enumerate(files):\n",
    "  extension = os.path.splitext(filename)[1]\n",
    "  newname = str((index+1)).lstrip('0') + '_' + filename.split('_', 1)[-1]\n",
    "  if os.path.exists(newname):\n",
    "    print \"Cannot rename %s to %s, already exists\" % (filename,newname)\n",
    "    continue\n",
    "  if DRYRUN:\n",
    "    print \"Would rename %s to %s\" % (filename,newname)\n",
    "    namelist.append(newname)\n",
    "  else:\n",
    "    print \"Renaming %s to %s\" % (filename,newname)\n",
    "    namelist.append(newname)\n",
    "    os.rename(filename,newname)"
   ]
  },
  {
   "cell_type": "code",
   "execution_count": 6,
   "metadata": {
    "collapsed": false
   },
   "outputs": [],
   "source": [
    "free = pd.DataFrame(files)\n",
    "free.to_csv('names.csv', index=False)"
   ]
  },
  {
   "cell_type": "code",
   "execution_count": 5,
   "metadata": {
    "collapsed": false
   },
   "outputs": [
    {
     "data": {
      "text/plain": [
       "70"
      ]
     },
     "execution_count": 5,
     "metadata": {},
     "output_type": "execute_result"
    }
   ],
   "source": [
    "len(files)"
   ]
  },
  {
   "cell_type": "code",
   "execution_count": 9,
   "metadata": {
    "collapsed": false
   },
   "outputs": [
    {
     "name": "stdout",
     "output_type": "stream",
     "text": [
      "[ 55 109  45   5  28 172 121  56  62 136  88   8 182 195  96 122 169 181\n",
      " 125  64 128  92  83  42  89 101 200 137  43 112 115  52  67  31 132  53\n",
      " 158 116 192  93  75 164 148   6 163  47  19 152 123  46  26  90  59 156\n",
      "  22 189 207 103 130 196 190  94  84  37 153 147 151 198 104  36 100 185\n",
      " 133 197 188 102 179  33  86  54  48 126  35 139   7 110  61 183 167  49\n",
      "   1  32  41 150 134 170   4 194   0  81  13 146 114  72  16 178 161  24\n",
      "  27 149   3 154  23 177 176  20 157  63  76 117  14  66 124 173 204  44\n",
      "  99 113 107 143 166 120 138  80 202  85  97  12  82 145 171 108 186   2\n",
      " 106 184 162  51  11 118 201  10  70 111  68  73 140 155  34 135  71  74\n",
      "  40 175  91 174  78  69 105  58 193 142  29  95 159 187 165  77 131  25\n",
      " 168 144 129 141  30  38 203 127 160   9  79  60 191 199  18  50  98 205\n",
      "  17  57 180  87  39 206  65 119  15  21]\n"
     ]
    }
   ],
   "source": [
    "print np.random.choice(208, 208, replace=False)"
   ]
  },
  {
   "cell_type": "code",
   "execution_count": null,
   "metadata": {
    "collapsed": true
   },
   "outputs": [],
   "source": []
  }
 ],
 "metadata": {
  "kernelspec": {
   "display_name": "Python 2",
   "language": "python",
   "name": "python2"
  },
  "language_info": {
   "codemirror_mode": {
    "name": "ipython",
    "version": 2
   },
   "file_extension": ".py",
   "mimetype": "text/x-python",
   "name": "python",
   "nbconvert_exporter": "python",
   "pygments_lexer": "ipython2",
   "version": "2.7.9"
  }
 },
 "nbformat": 4,
 "nbformat_minor": 0
}
